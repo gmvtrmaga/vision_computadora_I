{
 "cells": [
  {
   "cell_type": "markdown",
   "metadata": {},
   "source": [
    "# Consigna:\n",
    "- Encontrar el logotipo de la gaseosa dentro de las imágenes provistas en Material_TPs/TP3/images a partir del template Material_TPs/TP3/template\n",
    "    - (4 puntos) Obtener una detección del logo en cada imagen sin falsos positivos\n",
    "    - (4 puntos) Plantear y validar un algoritmo para múltiples detecciones en la imagen `coca_multi.png` con el mismo témplate del ítem 1\n",
    "    - (2 puntos) Generalizar el algoritmo del item 2 para todas las imágenes\n",
    "- Visualizarlos resultados con bounding boxes en cada imagen mostrando el nivel de confianza de la detección"
   ]
  },
  {
   "cell_type": "markdown",
   "metadata": {},
   "source": [
    "# Resolución\n",
    "## Importación de librerías públicas"
   ]
  },
  {
   "cell_type": "code",
   "execution_count": null,
   "metadata": {},
   "outputs": [],
   "source": [
    "import numpy as np\n",
    "import cv2 as cv\n",
    "import matplotlib.pyplot as plt\n",
    "\n",
    "%matplotlib inline"
   ]
  },
  {
   "cell_type": "markdown",
   "metadata": {},
   "source": [
    "## Importación de módulos codeados en el repo"
   ]
  },
  {
   "cell_type": "code",
   "execution_count": null,
   "metadata": {},
   "outputs": [],
   "source": [
    "# Set path to reach src folder\n",
    "import sys\n",
    "\n",
    "sys.path.append(\"../\")"
   ]
  },
  {
   "cell_type": "code",
   "execution_count": null,
   "metadata": {},
   "outputs": [],
   "source": [
    "from src.pattern_utils import detect_single_pattern\n",
    "\n",
    "from src.img_utils import load_as_RGB"
   ]
  },
  {
   "cell_type": "markdown",
   "metadata": {},
   "source": [
    "### Visualizacion de imágenes y plantilla"
   ]
  },
  {
   "cell_type": "code",
   "execution_count": null,
   "metadata": {},
   "outputs": [],
   "source": [
    "img1 = load_as_RGB(\"resources/images/COCA-COLA-LOGO.jpg\")\n",
    "img2 = load_as_RGB(\"resources/images/coca_logo_1.png\")\n",
    "img3 = load_as_RGB(\"resources/images/coca_logo_2.png\")\n",
    "img4 = load_as_RGB(\"resources/images/coca_multi.png\")\n",
    "img5 = load_as_RGB(\"resources/images/coca_retro_1.png\")\n",
    "img6 = load_as_RGB(\"resources/images/coca_retro_2.png\")\n",
    "img7 = load_as_RGB(\"resources/images/logo_1.png\")\n",
    "ptrn = load_as_RGB(\"resources/template/pattern.png\")\n",
    "\n",
    "# Show images in three rows\n",
    "fig, axes = plt.subplots(2, 4, figsize=(25, 10))\n",
    "\n",
    "axes[0][0].imshow(ptrn)\n",
    "axes[0][0].set_title(\"Patrón\")\n",
    "\n",
    "for i, img in enumerate([img1, img2, img3, img4, img5, img6, img7]):\n",
    "    ax = axes[int((i + 1) / 4)][(i + 1) % 4]\n",
    "    ax.imshow(img)\n",
    "    ax.set_title(f\"Imagen {i+1}\")"
   ]
  },
  {
   "cell_type": "markdown",
   "metadata": {},
   "source": [
    "### Detección única del logo en las imágenes\n",
    "Para poder hacer detecciones de todas las imágenes, será necesario "
   ]
  },
  {
   "cell_type": "code",
   "execution_count": null,
   "metadata": {},
   "outputs": [],
   "source": [
    " # Llamar a la función detect_logo_multiscale con imágenes en formato RGB\n",
    "result_image, bounding_boxes = detect_single_pattern(ptrn, img7, template_scale=1)\n",
    "\n",
    "# Visualizar resultados\n",
    "plt.imshow(result_image)"
   ]
  }
 ],
 "metadata": {
  "kernelspec": {
   "display_name": ".env",
   "language": "python",
   "name": "python3"
  },
  "language_info": {
   "codemirror_mode": {
    "name": "ipython",
    "version": 3
   },
   "file_extension": ".py",
   "mimetype": "text/x-python",
   "name": "python",
   "nbconvert_exporter": "python",
   "pygments_lexer": "ipython3",
   "version": "3.10.0"
  }
 },
 "nbformat": 4,
 "nbformat_minor": 2
}
