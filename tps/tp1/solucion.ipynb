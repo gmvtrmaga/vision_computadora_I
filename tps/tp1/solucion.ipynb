{
 "cells": [
  {
   "cell_type": "markdown",
   "metadata": {},
   "source": [
    "# Consigna:\n",
    "\n",
    "- Parte 1 (imágenes en `white_patch` y `coord_cromaticas`)\n",
    "    - Implementar el algoritmo de pasaje a coordenadas cromáticas para librarnos de las variaciones de contraste.\n",
    "    - Implementar el algoritmo WhitePatch para librarnos de las diferencias de color de iluminación.\n",
    "    - Mostrar los resultados obtenidos y analizar las posibles fallas (si es que las hay) en el caso de WhitePatch\n",
    "- Parte 2:\n",
    "    - Para las imágenes `img1_tp.png` y `img2_tp.png` leerlas con OpenCV en escala de grisas y visualizarlas.\n",
    "    - Elija el numero de bins que crea conveniente y grafique su histograma, compare los histogramas entre si. Explicar lo que se observa. ¿Si tuviera que entrenar un modelo de clasificación/detección de imágenes, considera que puede ser de utilidad tomar como features a los histogramas\n",
    "    - Para la imagen `segmentacion.png` analice el histograma de los canales RGB. Segmente algunos de los elementos presentes en la imagen (agua, cielo, tierra) y muestre, aplicando mascaras, las regiones en imágenes separadas.\n"
   ]
  },
  {
   "cell_type": "markdown",
   "metadata": {},
   "source": [
    "## Importación de librerías"
   ]
  },
  {
   "cell_type": "code",
   "execution_count": null,
   "metadata": {
    "vscode": {
     "languageId": "plaintext"
    }
   },
   "outputs": [],
   "source": []
  }
 ],
 "metadata": {
  "language_info": {
   "name": "python"
  }
 },
 "nbformat": 4,
 "nbformat_minor": 2
}
