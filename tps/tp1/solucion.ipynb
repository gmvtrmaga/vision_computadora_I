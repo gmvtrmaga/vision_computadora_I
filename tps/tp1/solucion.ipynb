{
 "cells": [
  {
   "cell_type": "markdown",
   "metadata": {},
   "source": [
    "# Consigna:\n",
    "\n",
    "- Parte 1 (imágenes en `/white_patch` y `/coord_cromaticas`)\n",
    "    - Implementar el algoritmo de pasaje a coordenadas cromáticas para librarnos de las variaciones de contraste.\n",
    "    - Implementar el algoritmo WhitePatch para librarnos de las diferencias de color de iluminación.\n",
    "    - Mostrar los resultados obtenidos y analizar las posibles fallas (si es que las hay) en el caso de WhitePatch\n",
    "- Parte 2:\n",
    "    - Para las imágenes `img1_tp.png` y `img2_tp.png` leerlas con OpenCV en escala de grisas y visualizarlas.\n",
    "    - Elija el numero de bins que crea conveniente y grafique su histograma, compare los histogramas entre si. Explicar lo que se observa. ¿Si tuviera que entrenar un modelo de clasificación/detección de imágenes, considera que puede ser de utilidad tomar como features a los histogramas\n",
    "    - Para la imagen `segmentacion.png` analice el histograma de los canales RGB. Segmente algunos de los elementos presentes en la imagen (agua, cielo, tierra) y muestre, aplicando mascaras, las regiones en imágenes separadas.\n"
   ]
  },
  {
   "cell_type": "markdown",
   "metadata": {},
   "source": [
    "# Resolución\n",
    "## Importación de librerías públicas"
   ]
  },
  {
   "cell_type": "code",
   "execution_count": null,
   "metadata": {},
   "outputs": [],
   "source": [
    "import numpy as np\n",
    "import cv2 as cv\n",
    "import matplotlib.pyplot as plt\n",
    "\n",
    "%matplotlib inline"
   ]
  },
  {
   "cell_type": "markdown",
   "metadata": {},
   "source": [
    "## Importación de módulos codeados en el repo"
   ]
  },
  {
   "cell_type": "code",
   "execution_count": null,
   "metadata": {},
   "outputs": [],
   "source": [
    "# Set path to reach src folder\n",
    "import sys\n",
    "\n",
    "sys.path.append(\"../\")"
   ]
  },
  {
   "cell_type": "code",
   "execution_count": null,
   "metadata": {},
   "outputs": [],
   "source": [
    "from src.img_utils import load_as_gray, load_as_RGB, tform_crom_coord, tform_white_patch"
   ]
  },
  {
   "cell_type": "markdown",
   "metadata": {},
   "source": [
    "## Parte 1\n",
    "### Visualizacion inicial de las imágenes de `/coord_cromaticas`"
   ]
  },
  {
   "cell_type": "code",
   "execution_count": null,
   "metadata": {},
   "outputs": [],
   "source": [
    "# Load images\n",
    "cro_img1 = load_as_RGB(\"resources/coord_cromaticas/CoordCrom_1.png\")\n",
    "cro_img2 = load_as_RGB(\"resources/coord_cromaticas/CoordCrom_2.png\")\n",
    "cro_img3 = load_as_RGB(\"resources/coord_cromaticas/CoordCrom_3.png\")\n",
    "\n",
    "\n",
    "# Show images in single row\n",
    "fig, axes = plt.subplots(1, 3, figsize=(15, 5))\n",
    "\n",
    "for i, img in enumerate([cro_img1, cro_img2, cro_img3]):\n",
    "    axes[i].imshow(img)\n",
    "    axes[i].set_title(f\"Imagen {i + 1}\")"
   ]
  },
  {
   "cell_type": "markdown",
   "metadata": {},
   "source": [
    "### Aplicamos algoritmo de pasaje a coordenadas cromáticas"
   ]
  },
  {
   "cell_type": "code",
   "execution_count": null,
   "metadata": {},
   "outputs": [],
   "source": [
    "cro_img1 = tform_crom_coord(cro_img1)\n",
    "cro_img2 = tform_crom_coord(cro_img2)\n",
    "cro_img3 = tform_crom_coord(cro_img3)\n",
    "\n",
    "# Show images in single row\n",
    "fig, axes = plt.subplots(1, 3, figsize=(15, 5))\n",
    "\n",
    "for i, img in enumerate([cro_img1, cro_img2, cro_img3]):\n",
    "    axes[i].imshow(img)\n",
    "    axes[i].set_title(f\"Imagen {i + 1}\")"
   ]
  },
  {
   "cell_type": "markdown",
   "metadata": {},
   "source": [
    "### Visualizacion inicial de las imágenes de `/white_patch`"
   ]
  },
  {
   "cell_type": "code",
   "execution_count": null,
   "metadata": {},
   "outputs": [],
   "source": [
    "# Load images\n",
    "wp_img1 = load_as_RGB(\"resources/white_patch/test_blue.png\")\n",
    "wp_img2 = load_as_RGB(\"resources/white_patch/test_green.png\")\n",
    "wp_img3 = load_as_RGB(\"resources/white_patch/test_red.png\")\n",
    "wp_img4 = load_as_RGB(\"resources/white_patch/wp_blue.jpg\")\n",
    "wp_img5 = load_as_RGB(\"resources/white_patch/wp_green.png\")\n",
    "wp_img6 = load_as_RGB(\"resources/white_patch/wp_green2.jpg\")\n",
    "wp_img7 = load_as_RGB(\"resources/white_patch/wp_red.png\")\n",
    "wp_img8 = load_as_RGB(\"resources/white_patch/wp_red2.jpg\")\n",
    "\n",
    "\n",
    "# Show images in two rows\n",
    "fig, axes = plt.subplots(2, 4, figsize=(15, 10))\n",
    "\n",
    "for i, img in enumerate(\n",
    "    [wp_img1, wp_img2, wp_img3, wp_img4, wp_img5, wp_img6, wp_img7, wp_img8]\n",
    "):\n",
    "    ax = axes[int(i / 4)][i % 4]\n",
    "    ax.imshow(img)\n",
    "    ax.set_title(f\"Imagen {i + 1}\")"
   ]
  },
  {
   "cell_type": "markdown",
   "metadata": {},
   "source": [
    "### Aplicamos algoritmo de White Patch"
   ]
  },
  {
   "cell_type": "code",
   "execution_count": null,
   "metadata": {},
   "outputs": [],
   "source": [
    "wp_img1 = tform_white_patch(wp_img1)\n",
    "wp_img2 = tform_white_patch(wp_img2)\n",
    "wp_img3 = tform_white_patch(wp_img3)\n",
    "wp_img4 = tform_white_patch(wp_img4)\n",
    "wp_img5 = tform_white_patch(wp_img5)\n",
    "wp_img6 = tform_white_patch(wp_img6)\n",
    "wp_img7 = tform_white_patch(wp_img7)\n",
    "wp_img8 = tform_white_patch(wp_img8)\n",
    "\n",
    "# Show images in two rows\n",
    "fig, axes = plt.subplots(2, 4, figsize=(15, 10))\n",
    "\n",
    "for i, img in enumerate(\n",
    "    [wp_img1, wp_img2, wp_img3, wp_img4, wp_img5, wp_img6, wp_img7, wp_img8]\n",
    "):\n",
    "    ax = axes[int(i / 4)][i % 4]\n",
    "    ax.imshow(img)\n",
    "    ax.set_title(f\"Imagen {i + 1}\")"
   ]
  },
  {
   "cell_type": "markdown",
   "metadata": {},
   "source": [
    "#### Comentarios sobre el algoritmo white patch\n",
    "\n",
    "Este algoritmo permite balancear el color asumiendo que la iluminacion de la imagen es blanca o gris. En casos en los que las imagenes estén muy sauradas o iluminadas de un único color este algoritmo no tiene un buen rendimiento y apenas tiene resultados notables."
   ]
  },
  {
   "cell_type": "markdown",
   "metadata": {},
   "source": [
    "## Parte 2\n",
    "### Visualizacion de `img1_tp.png` y `img2_tp.png` en escala de grises"
   ]
  },
  {
   "cell_type": "code",
   "execution_count": null,
   "metadata": {},
   "outputs": [],
   "source": [
    "gray_img1 = load_as_gray(\"resources/img1_tp.png\")\n",
    "gray_img2 = load_as_gray(\"resources/img2_tp.png\")\n",
    "\n",
    "# Show images in single row\n",
    "fig, axes = plt.subplots(1, 2, figsize=(15, 5))\n",
    "\n",
    "for i, img in enumerate(\n",
    "    [\n",
    "        gray_img1,\n",
    "        gray_img2,\n",
    "    ]\n",
    "):\n",
    "    axes[i].imshow(img, cmap='gray')\n",
    "    axes[i].set_title(f\"Imagen {i + 1}\")"
   ]
  },
  {
   "cell_type": "markdown",
   "metadata": {},
   "source": [
    "### Representacion de histogramas"
   ]
  },
  {
   "cell_type": "code",
   "execution_count": null,
   "metadata": {},
   "outputs": [],
   "source": [
    "hist1, bins1 = np.histogram(gray_img1.ravel(), 64, [0, 256])\n",
    "hist2, bins2 = np.histogram(gray_img2.ravel(), 64, [0, 256])\n",
    "\n",
    "# Show histograms in single row\n",
    "fig, axes = plt.subplots(1, 2, figsize=(15, 5))\n",
    "\n",
    "for i, hist in enumerate(\n",
    "    [\n",
    "        hist1,\n",
    "        hist2,\n",
    "    ]\n",
    "):\n",
    "    axes[i].plot(hist)\n",
    "    axes[i].set_title(f\"Histograma {i + 1}\")"
   ]
  },
  {
   "cell_type": "markdown",
   "metadata": {},
   "source": [
    "#### Analisis de los histogramas\n",
    "\n",
    "Como se puede observar, los histogramas son idénticos. No sería útil entrenar un modelo de machine learning (únicamente) a partir de histogramas ya que cualquier imagen con una proporcion de grises similar se confundiría con los objetos que pretendemos que identifique. La ordenación de los pixeles en escala de grises es determinante a la hora de detectar objetos."
   ]
  }
 ],
 "metadata": {
  "kernelspec": {
   "display_name": ".env",
   "language": "python",
   "name": "python3"
  },
  "language_info": {
   "codemirror_mode": {
    "name": "ipython",
    "version": 3
   },
   "file_extension": ".py",
   "mimetype": "text/x-python",
   "name": "python",
   "nbconvert_exporter": "python",
   "pygments_lexer": "ipython3",
   "version": "3.10.0"
  }
 },
 "nbformat": 4,
 "nbformat_minor": 2
}
