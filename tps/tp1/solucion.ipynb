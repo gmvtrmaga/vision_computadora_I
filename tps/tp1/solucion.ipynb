{
 "cells": [
  {
   "cell_type": "markdown",
   "metadata": {},
   "source": [
    "# Consigna:\n",
    "\n",
    "- Parte 1 (imágenes en `/white_patch` y `/coord_cromaticas`)\n",
    "    - Implementar el algoritmo de pasaje a coordenadas cromáticas para librarnos de las variaciones de contraste.\n",
    "    - Implementar el algoritmo WhitePatch para librarnos de las diferencias de color de iluminación.\n",
    "    - Mostrar los resultados obtenidos y analizar las posibles fallas (si es que las hay) en el caso de WhitePatch\n",
    "- Parte 2:\n",
    "    - Para las imágenes `img1_tp.png` y `img2_tp.png` leerlas con OpenCV en escala de grisas y visualizarlas.\n",
    "    - Elija el numero de bins que crea conveniente y grafique su histograma, compare los histogramas entre si. Explicar lo que se observa. ¿Si tuviera que entrenar un modelo de clasificación/detección de imágenes, considera que puede ser de utilidad tomar como features a los histogramas\n",
    "    - Para la imagen `segmentacion.png` analice el histograma de los canales RGB. Segmente algunos de los elementos presentes en la imagen (agua, cielo, tierra) y muestre, aplicando mascaras, las regiones en imágenes separadas.\n"
   ]
  },
  {
   "cell_type": "markdown",
   "metadata": {},
   "source": [
    "# Resolución\n",
    "## Importación de librerías públicas"
   ]
  },
  {
   "cell_type": "code",
   "execution_count": null,
   "metadata": {},
   "outputs": [],
   "source": [
    "import numpy as np\n",
    "import cv2 as cv\n",
    "import matplotlib.pyplot as plt\n",
    "\n",
    "%matplotlib inline"
   ]
  },
  {
   "cell_type": "markdown",
   "metadata": {},
   "source": [
    "## Importación de módulos codeados en el repo"
   ]
  },
  {
   "cell_type": "code",
   "execution_count": null,
   "metadata": {},
   "outputs": [],
   "source": [
    "# Set path to reach src folder\n",
    "import sys\n",
    "\n",
    "sys.path.append(\"../\")"
   ]
  },
  {
   "cell_type": "code",
   "execution_count": null,
   "metadata": {},
   "outputs": [],
   "source": [
    "from src.img_utils import (\n",
    "    load_as_gray,\n",
    "    load_as_HSV,\n",
    "    load_as_RGB,\n",
    "    tform_crom_coord,\n",
    "    tform_white_patch,\n",
    ")"
   ]
  },
  {
   "cell_type": "markdown",
   "metadata": {},
   "source": [
    "## Parte 1\n",
    "### Visualizacion inicial de las imágenes de `/coord_cromaticas`"
   ]
  },
  {
   "cell_type": "code",
   "execution_count": null,
   "metadata": {},
   "outputs": [],
   "source": [
    "# Load images\n",
    "cro_img1 = load_as_RGB(\"resources/coord_cromaticas/CoordCrom_1.png\")\n",
    "cro_img2 = load_as_RGB(\"resources/coord_cromaticas/CoordCrom_2.png\")\n",
    "cro_img3 = load_as_RGB(\"resources/coord_cromaticas/CoordCrom_3.png\")\n",
    "\n",
    "\n",
    "# Show images in single row\n",
    "fig, axes = plt.subplots(1, 3, figsize=(15, 5))\n",
    "\n",
    "for i, img in enumerate([cro_img1, cro_img2, cro_img3]):\n",
    "    axes[i].imshow(img)\n",
    "    axes[i].set_title(f\"Imagen {i + 1}\")"
   ]
  },
  {
   "cell_type": "markdown",
   "metadata": {},
   "source": [
    "### Aplicamos algoritmo de pasaje a coordenadas cromáticas"
   ]
  },
  {
   "cell_type": "code",
   "execution_count": null,
   "metadata": {},
   "outputs": [],
   "source": [
    "cro_img1 = tform_crom_coord(cro_img1)\n",
    "cro_img2 = tform_crom_coord(cro_img2)\n",
    "cro_img3 = tform_crom_coord(cro_img3)\n",
    "\n",
    "# Show images in single row\n",
    "fig, axes = plt.subplots(1, 3, figsize=(15, 5))\n",
    "\n",
    "for i, img in enumerate([cro_img1, cro_img2, cro_img3]):\n",
    "    axes[i].imshow(img)\n",
    "    axes[i].set_title(f\"Imagen {i + 1}\")"
   ]
  },
  {
   "cell_type": "markdown",
   "metadata": {},
   "source": [
    "### Visualizacion inicial de las imágenes de `/white_patch`"
   ]
  },
  {
   "cell_type": "code",
   "execution_count": null,
   "metadata": {},
   "outputs": [],
   "source": [
    "# Load images\n",
    "wp_img1 = load_as_RGB(\"resources/white_patch/test_blue.png\")\n",
    "wp_img2 = load_as_RGB(\"resources/white_patch/test_green.png\")\n",
    "wp_img3 = load_as_RGB(\"resources/white_patch/test_red.png\")\n",
    "wp_img4 = load_as_RGB(\"resources/white_patch/wp_blue.jpg\")\n",
    "wp_img5 = load_as_RGB(\"resources/white_patch/wp_green.png\")\n",
    "wp_img6 = load_as_RGB(\"resources/white_patch/wp_green2.jpg\")\n",
    "wp_img7 = load_as_RGB(\"resources/white_patch/wp_red.png\")\n",
    "wp_img8 = load_as_RGB(\"resources/white_patch/wp_red2.jpg\")\n",
    "\n",
    "\n",
    "# Show images in two rows\n",
    "fig, axes = plt.subplots(2, 4, figsize=(15, 10))\n",
    "\n",
    "for i, img in enumerate(\n",
    "    [wp_img1, wp_img2, wp_img3, wp_img4, wp_img5, wp_img6, wp_img7, wp_img8]\n",
    "):\n",
    "    ax = axes[int(i / 4)][i % 4]\n",
    "    ax.imshow(img)\n",
    "    ax.set_title(f\"Imagen {i + 1}\")"
   ]
  },
  {
   "cell_type": "markdown",
   "metadata": {},
   "source": [
    "### Aplicamos algoritmo de White Patch"
   ]
  },
  {
   "cell_type": "code",
   "execution_count": null,
   "metadata": {},
   "outputs": [],
   "source": [
    "wp_img1 = tform_white_patch(wp_img1)\n",
    "wp_img2 = tform_white_patch(wp_img2)\n",
    "wp_img3 = tform_white_patch(wp_img3)\n",
    "wp_img4 = tform_white_patch(wp_img4)\n",
    "wp_img5 = tform_white_patch(wp_img5)\n",
    "wp_img6 = tform_white_patch(wp_img6)\n",
    "wp_img7 = tform_white_patch(wp_img7)\n",
    "wp_img8 = tform_white_patch(wp_img8)\n",
    "\n",
    "# Show images in two rows\n",
    "fig, axes = plt.subplots(2, 4, figsize=(15, 10))\n",
    "\n",
    "for i, img in enumerate(\n",
    "    [wp_img1, wp_img2, wp_img3, wp_img4, wp_img5, wp_img6, wp_img7, wp_img8]\n",
    "):\n",
    "    ax = axes[int(i / 4)][i % 4]\n",
    "    ax.imshow(img)\n",
    "    ax.set_title(f\"Imagen {i + 1}\")"
   ]
  },
  {
   "cell_type": "markdown",
   "metadata": {},
   "source": [
    "#### Comentarios sobre el algoritmo white patch\n",
    "\n",
    "Este algoritmo permite balancear el color asumiendo que la iluminacion de la imagen es blanca o gris. En casos en los que las imagenes estén muy sauradas o iluminadas de un único color este algoritmo no tiene un buen rendimiento y apenas tiene resultados notables."
   ]
  },
  {
   "cell_type": "markdown",
   "metadata": {},
   "source": [
    "## Parte 2\n",
    "### Visualizacion de `img1_tp.png` y `img2_tp.png` en escala de grises"
   ]
  },
  {
   "cell_type": "code",
   "execution_count": null,
   "metadata": {},
   "outputs": [],
   "source": [
    "gray_img1 = load_as_gray(\"resources/img1_tp.png\")\n",
    "gray_img2 = load_as_gray(\"resources/img2_tp.png\")\n",
    "\n",
    "# Show images in single row\n",
    "fig, axes = plt.subplots(1, 2, figsize=(15, 5))\n",
    "\n",
    "for i, img in enumerate(\n",
    "    [\n",
    "        gray_img1,\n",
    "        gray_img2,\n",
    "    ]\n",
    "):\n",
    "    axes[i].imshow(img, cmap='gray')\n",
    "    axes[i].set_title(f\"Imagen {i + 1}\")"
   ]
  },
  {
   "cell_type": "markdown",
   "metadata": {},
   "source": [
    "### Representacion de histogramas"
   ]
  },
  {
   "cell_type": "code",
   "execution_count": null,
   "metadata": {},
   "outputs": [],
   "source": [
    "hist1, bins1 = np.histogram(gray_img1.ravel(), 64, [0, 256])\n",
    "hist2, bins2 = np.histogram(gray_img2.ravel(), 64, [0, 256])\n",
    "\n",
    "# Show histograms in single row\n",
    "fig, axes = plt.subplots(1, 2, figsize=(15, 5))\n",
    "\n",
    "for i, hist in enumerate(\n",
    "    [\n",
    "        hist1,\n",
    "        hist2,\n",
    "    ]\n",
    "):\n",
    "    axes[i].plot(hist)\n",
    "    axes[i].set_title(f\"Histograma {i + 1}\")"
   ]
  },
  {
   "cell_type": "markdown",
   "metadata": {},
   "source": [
    "#### Analisis de los histogramas\n",
    "\n",
    "Como se puede observar, los histogramas son idénticos. No sería útil entrenar un modelo de machine learning (únicamente) a partir de histogramas ya que cualquier imagen con una proporcion de grises similar se confundiría con los objetos que pretendemos que identifique. La ordenación de los pixeles, tanto en escala de grises como en escala de color, es determinante a la hora de detectar objetos."
   ]
  },
  {
   "cell_type": "markdown",
   "metadata": {},
   "source": [
    "### Ejercicio de `segmentacion.png`\n",
    "### Visualización de la imagen original y sus histogramas"
   ]
  },
  {
   "cell_type": "code",
   "execution_count": null,
   "metadata": {},
   "outputs": [],
   "source": [
    "seg_img_HSV = load_as_HSV(\"resources/segmentacion.png\")\n",
    "seg_img_RGB = load_as_RGB(\"resources/segmentacion.png\")\n",
    "\n",
    "# Show images in single row\n",
    "fig, axes = plt.subplots(2, 2, figsize=(15, 10))\n",
    "\n",
    "axes[0][0].imshow(seg_img_HSV)\n",
    "axes[0][0].set_title(f\"Imagen HSV\")\n",
    "axes[0][1].imshow(seg_img_RGB)\n",
    "axes[0][1].set_title(f\"Imagen RGB\")\n",
    "\n",
    "# Histograms\n",
    "col = 800\n",
    "profile_HSV = seg_img_HSV[:, col]\n",
    "profile_RGB = seg_img_RGB[:, col]\n",
    "\n",
    "axes[1][0].plot(profile_HSV[:,0], color='r',label='H')\n",
    "axes[1][0].plot(profile_HSV[:,1], color='g',label='S')\n",
    "axes[1][0].plot(profile_HSV[:,2], color='b',label='V')\n",
    "axes[1][0].set_title(f\"Histograma HSV\")\n",
    "axes[1][0].legend()\n",
    "\n",
    "axes[1][1].plot(profile_RGB[:,0], color='r',label='R')\n",
    "axes[1][1].plot(profile_RGB[:,1], color='g',label='G')\n",
    "axes[1][1].plot(profile_RGB[:,2], color='b',label='B')\n",
    "axes[1][1].set_title(f\"Histograma RGB\")\n",
    "axes[1][1].legend()"
   ]
  },
  {
   "cell_type": "markdown",
   "metadata": {},
   "source": [
    "#### Comentarios sobre los histogramas\n",
    "En HSV, el valor H se diferencia claramente en el segmento de tierra respecto al resto de la imagen. Por otro lado, en RGB hay una diferencia notable entre los valores RGB de las nubes y del mar, tambien se nota esa diverencia en el valor V de HSV.\n",
    "\n",
    "Con estas dos caracteristicas debería ser posible separar los tres segmentos de imagen.\n",
    "\n",
    "Pasamos a obtener los valores medios que nos interesan."
   ]
  },
  {
   "cell_type": "code",
   "execution_count": null,
   "metadata": {},
   "outputs": [],
   "source": [
    "# Land sample\n",
    "muestra_tierra_HSV = seg_img_HSV[550:, :, 0]\n",
    "muestra_tierra_RGB = seg_img_RGB[550:, :, :]\n",
    "\n",
    "tierra_H_medio = np.mean(muestra_tierra_HSV)\n",
    "\n",
    "# Sky sample\n",
    "muestra_cielo_HSV = seg_img_HSV[:250, :, :]\n",
    "muestra_cielo_RGB = seg_img_RGB[:250, :, :]\n",
    "\n",
    "cielo_H_medio, _, cielo_V_medio = np.mean(seg_img_HSV, axis=(0, 1))\n",
    "\n",
    "# Sea sample\n",
    "muestra_mar_HSV = seg_img_HSV[290:350, 500:, :]\n",
    "muestra_mar_RGB = seg_img_RGB[290:350, 500:, :]\n",
    "\n",
    "mar_H_medio, _, mar_V_medio = np.mean(muestra_mar_HSV, axis=(0, 1))\n",
    "\n",
    "# Show samples in single row\n",
    "fig, axes = plt.subplots(3, 1, figsize=(15, 8))\n",
    "axes[0].imshow(muestra_tierra_RGB)\n",
    "axes[0].set_title(f\"Muestra Tierra (Valor hue de {tierra_H_medio})\")\n",
    "\n",
    "axes[1].imshow(muestra_cielo_RGB)\n",
    "axes[1].set_title(\n",
    "    f\"Muestra Cielo (Valor hue de {cielo_H_medio} y Valor value de {cielo_V_medio})\"\n",
    ")\n",
    "\n",
    "axes[2].imshow(muestra_mar_RGB)\n",
    "axes[2].set_title(\n",
    "    f\"Muestra Mar (Valor hue de {mar_H_medio} y Valor value de {mar_V_medio})\"\n",
    ")"
   ]
  },
  {
   "cell_type": "markdown",
   "metadata": {},
   "source": [
    "Aplicacion de máscaras y resultados:"
   ]
  },
  {
   "cell_type": "code",
   "execution_count": null,
   "metadata": {},
   "outputs": [],
   "source": [
    "fig, axes = plt.subplots(2, 3, figsize=(15, 8))\n",
    "\n",
    "color_l = (0, 0, 0)\n",
    "color_u = (tierra_H_medio + 10, 255, 255)\n",
    "\n",
    "mask = cv.inRange(seg_img_HSV, color_l, color_u)\n",
    "img_segmentada = cv.bitwise_and(seg_img_RGB, seg_img_RGB, mask=mask)\n",
    "\n",
    "axes[0][0].imshow(mask, cmap=\"gray\")\n",
    "axes[0][0].set_title(\"Máscara de segmentacion tierra\")\n",
    "axes[1][0].imshow(img_segmentada)\n",
    "axes[1][0].set_title(\"Objeto segmentado tierra\")\n",
    "\n",
    "hue_blue_min = min(cielo_H_medio, mar_H_medio)\n",
    "hue_blue_max = max(cielo_H_medio, mar_H_medio)\n",
    "color_l = (hue_blue_min - 20, 0, cielo_V_medio - 20)\n",
    "color_u = (hue_blue_max + 20, 255, 255)\n",
    "\n",
    "mask = cv.inRange(seg_img_HSV, color_l, color_u)\n",
    "img_segmentada = cv.bitwise_and(seg_img_RGB, seg_img_RGB, mask=mask)\n",
    "\n",
    "axes[0][1].imshow(mask, cmap=\"gray\")\n",
    "axes[0][1].set_title(\"Máscara de segmentacion cielo\")\n",
    "axes[1][1].imshow(img_segmentada)\n",
    "axes[1][1].set_title(\"Objeto segmentado cielo\")\n",
    "\n",
    "color_l = (hue_blue_min - 20, 0, mar_V_medio - 20)\n",
    "color_u = (hue_blue_max + 20, 255, mar_V_medio + 20)\n",
    "\n",
    "mask = cv.inRange(seg_img_HSV, color_l, color_u)\n",
    "img_segmentada = cv.bitwise_and(seg_img_RGB, seg_img_RGB, mask=mask)\n",
    "\n",
    "axes[0][2].imshow(mask, cmap=\"gray\")\n",
    "axes[0][2].set_title(\"Máscara de segmentacion mar\")\n",
    "axes[1][2].imshow(img_segmentada)\n",
    "axes[1][2].set_title(\"Objeto segmentado mar\")"
   ]
  },
  {
   "cell_type": "markdown",
   "metadata": {},
   "source": [
    "#### Último comentario\n",
    "Es posible aplicar una máscara más inteligente al cielo y al mar si realizamos una deteccion del horizonte. Suponiendo que se toma la imagen con la cámara bien orientada (el horizonte es horizontal) se puede obtener la primera fila de la imagen en la que se aplica el filtro del mar y tomar ese valor como un parámetro más de la máscara. Es decir, se limita la máscara de cielo por encima del horizonte y se modifica el filtro del mar para \"incluir\" las detecciones de la máscara del cielo en las filas por debajo del horizonte"
   ]
  }
 ],
 "metadata": {
  "kernelspec": {
   "display_name": ".env",
   "language": "python",
   "name": "python3"
  },
  "language_info": {
   "codemirror_mode": {
    "name": "ipython",
    "version": 3
   },
   "file_extension": ".py",
   "mimetype": "text/x-python",
   "name": "python",
   "nbconvert_exporter": "python",
   "pygments_lexer": "ipython3",
   "version": "3.10.0"
  }
 },
 "nbformat": 4,
 "nbformat_minor": 2
}
