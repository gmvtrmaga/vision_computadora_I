{
 "cells": [
  {
   "cell_type": "markdown",
   "metadata": {},
   "source": [
    "# Consigna:\n",
    "\n",
    "- Parte 1 (imágenes en `/white_patch` y `/coord_cromaticas`)\n",
    "    - Implementar el algoritmo de pasaje a coordenadas cromáticas para librarnos de las variaciones de contraste.\n",
    "    - Implementar el algoritmo WhitePatch para librarnos de las diferencias de color de iluminación.\n",
    "    - Mostrar los resultados obtenidos y analizar las posibles fallas (si es que las hay) en el caso de WhitePatch\n",
    "- Parte 2:\n",
    "    - Para las imágenes `img1_tp.png` y `img2_tp.png` leerlas con OpenCV en escala de grisas y visualizarlas.\n",
    "    - Elija el numero de bins que crea conveniente y grafique su histograma, compare los histogramas entre si. Explicar lo que se observa. ¿Si tuviera que entrenar un modelo de clasificación/detección de imágenes, considera que puede ser de utilidad tomar como features a los histogramas\n",
    "    - Para la imagen `segmentacion.png` analice el histograma de los canales RGB. Segmente algunos de los elementos presentes en la imagen (agua, cielo, tierra) y muestre, aplicando mascaras, las regiones en imágenes separadas.\n"
   ]
  },
  {
   "cell_type": "markdown",
   "metadata": {},
   "source": [
    "# Resolución\n",
    "## Importación de librerías públicas"
   ]
  },
  {
   "cell_type": "code",
   "execution_count": null,
   "metadata": {},
   "outputs": [],
   "source": [
    "import numpy as np\n",
    "import cv2 as cv\n",
    "import matplotlib.pyplot as plt\n",
    "\n",
    "%matplotlib inline"
   ]
  },
  {
   "cell_type": "markdown",
   "metadata": {},
   "source": [
    "## Importación de módulos codeados en el repo"
   ]
  },
  {
   "cell_type": "code",
   "execution_count": null,
   "metadata": {},
   "outputs": [],
   "source": [
    "# Modificar path para llegar a la carpetas src\n",
    "import sys\n",
    "sys.path.append(\"../\")\n",
    "\n",
    "from src.img_utils import cargar_en_RGB, tform_coord_cromaticas"
   ]
  },
  {
   "cell_type": "markdown",
   "metadata": {},
   "source": [
    "## Parte 1 - Coordenadas cromáticas\n",
    "### Visualizacion inicial de las imágenes de `/coord_cromaticas`"
   ]
  },
  {
   "cell_type": "code",
   "execution_count": null,
   "metadata": {},
   "outputs": [],
   "source": [
    "# Leer las imágenes\n",
    "cro_img1 = cargar_en_RGB(\"resources/coord_cromaticas/CoordCrom_1.png\")\n",
    "cro_img2 = cargar_en_RGB(\"resources/coord_cromaticas/CoordCrom_2.png\")\n",
    "cro_img3 = cargar_en_RGB(\"resources/coord_cromaticas/CoordCrom_3.png\")\n",
    "\n",
    "\n",
    "# Mostrar imagenes en una única fila\n",
    "fig, axes = plt.subplots(1, 3, figsize=(15, 5))\n",
    "\n",
    "for i, img in enumerate([cro_img1, cro_img2, cro_img3]):\n",
    "    axes[i].imshow(img)\n",
    "    axes[i].set_title(f\"Imagen {i + 1}\")"
   ]
  },
  {
   "cell_type": "markdown",
   "metadata": {},
   "source": [
    "### Aplicamos algoritmo de pasaje a coordenadas cromáticas"
   ]
  },
  {
   "cell_type": "code",
   "execution_count": null,
   "metadata": {},
   "outputs": [],
   "source": [
    "cro_img1 = tform_coord_cromaticas(cro_img1)\n",
    "cro_img2 = tform_coord_cromaticas(cro_img2)\n",
    "cro_img3 = tform_coord_cromaticas(cro_img3)\n",
    "\n",
    "# Mostrar imagenes en una única fila\n",
    "fig, axes = plt.subplots(1, 3, figsize=(15, 5))\n",
    "\n",
    "for i, img in enumerate([cro_img1, cro_img2, cro_img3]):\n",
    "    axes[i].imshow(img)\n",
    "    axes[i].set_title(f\"Imagen {i + 1}\")"
   ]
  },
  {
   "cell_type": "markdown",
   "metadata": {},
   "source": [
    "### Visualizacion inicial de las imágenes de `/white_patch`"
   ]
  },
  {
   "cell_type": "code",
   "execution_count": null,
   "metadata": {},
   "outputs": [],
   "source": [
    "# Leer las imágenes\n",
    "wp_img1 = cargar_en_RGB(\"resources/white_patch/test_blue.png\")\n",
    "wp_img2 = cargar_en_RGB(\"resources/white_patch/test_green.png\")\n",
    "wp_img3 = cargar_en_RGB(\"resources/white_patch/test_red.png\")\n",
    "wp_img4 = cargar_en_RGB(\"resources/white_patch/wp_blue.jpg\")\n",
    "wp_img5 = cargar_en_RGB(\"resources/white_patch/wp_green.png\")\n",
    "wp_img6 = cargar_en_RGB(\"resources/white_patch/wp_green2.jpg\")\n",
    "wp_img7 = cargar_en_RGB(\"resources/white_patch/wp_red.png\")\n",
    "wp_img8 = cargar_en_RGB(\"resources/white_patch/wp_red2.jpg\")\n",
    "\n",
    "\n",
    "# Mostrar imagenes en dos filas\n",
    "fig, axes = plt.subplots(2, 4, figsize=(15, 10))\n",
    "\n",
    "for i, img in enumerate(\n",
    "    [wp_img1, wp_img2, wp_img3, wp_img4, wp_img5, wp_img6, wp_img7, wp_img8]\n",
    "):\n",
    "    ax = axes[int(i / 4)][i % 4]\n",
    "    ax.imshow(img)\n",
    "    ax.set_title(f\"Imagen {i + 1}\")"
   ]
  }
 ],
 "metadata": {
  "kernelspec": {
   "display_name": ".env",
   "language": "python",
   "name": "python3"
  },
  "language_info": {
   "codemirror_mode": {
    "name": "ipython",
    "version": 3
   },
   "file_extension": ".py",
   "mimetype": "text/x-python",
   "name": "python",
   "nbconvert_exporter": "python",
   "pygments_lexer": "ipython3",
   "version": "3.10.0"
  }
 },
 "nbformat": 4,
 "nbformat_minor": 2
}
