{
 "cells": [
  {
   "cell_type": "markdown",
   "metadata": {},
   "source": [
    "# Consigna:\n",
    "- Implementar la función `create_gauss_filter (h, w, k_size , sigma)` para crear filtros gaussianos para filtrado espectral.\n",
    "Debe retornar un filtro gaussiano de tamaño HxW en dominio espacial y su transformada de Fourier.\n",
    "    - Graficar ambas representaciones para diferentes tamaños de kernel y sigma. Aplicar el filtro una imagen para validar el funcionamiento en el dominio espectral.\n",
    "    - Usando el método descripto en el paper Image Sharpness Measure for Blurred Images in Frequency Domain” comparar el resultado de un filtrado por convolución con el filtrado espectral.\n",
    "    - Repetir la comparación usando uno de los métodos descriptos en el apéndice del paper “Analysis of focus measure operators in shape from focus”\n"
   ]
  },
  {
   "cell_type": "markdown",
   "metadata": {},
   "source": [
    "# Resolución\n",
    "## Importación de librerías públicas"
   ]
  },
  {
   "cell_type": "code",
   "execution_count": null,
   "metadata": {},
   "outputs": [],
   "source": [
    "import numpy as np\n",
    "import cv2 as cv\n",
    "import matplotlib.pyplot as plt\n",
    "\n",
    "%matplotlib inline"
   ]
  },
  {
   "cell_type": "markdown",
   "metadata": {},
   "source": [
    "## Importación de módulos codeados en el repo"
   ]
  },
  {
   "cell_type": "code",
   "execution_count": null,
   "metadata": {},
   "outputs": [],
   "source": [
    "# Set path to reach src folder\n",
    "import sys\n",
    "\n",
    "sys.path.append(\"../\")"
   ]
  },
  {
   "cell_type": "code",
   "execution_count": null,
   "metadata": {},
   "outputs": [],
   "source": [
    "from src.filter_utils import create_gauss_filter"
   ]
  },
  {
   "cell_type": "markdown",
   "metadata": {},
   "source": [
    "### Creacion de filtros gaussianos y su representación"
   ]
  },
  {
   "cell_type": "code",
   "execution_count": null,
   "metadata": {},
   "outputs": [],
   "source": [
    "kernel_sizes = [10, 20, 30]\n",
    "sigmas = [4, 40]\n",
    "img_height = 60\n",
    "img_width = 80\n",
    "\n",
    "# Show images in single row\n",
    "fig, axes = plt.subplots(3, 4, figsize=(25, 10))\n",
    "\n",
    "for i, k in enumerate(kernel_sizes):\n",
    "    for j, s in enumerate(sigmas):\n",
    "        gauss_kernel, gauss_fft = create_gauss_filter(\n",
    "            img_height, img_width, k, s\n",
    "        )\n",
    "        axes[i][j*2].imshow(gauss_kernel, cmap=\"gray\")\n",
    "        axes[i][j*2].set_title(f\"Filtro Gaussiano de kernel {k} y sigma {s}\")\n",
    "\n",
    "        axes[i][j*2+1].imshow(np.log(1 + np.abs(gauss_fft)), cmap=\"gray\")\n",
    "        axes[i][j*2+1].set_title(\n",
    "            f\"Transformada de fourier del filtro Gaussiano de kernel {k} y sigma {s}\"\n",
    "        )"
   ]
  }
 ],
 "metadata": {
  "kernelspec": {
   "display_name": ".env",
   "language": "python",
   "name": "python3"
  },
  "language_info": {
   "codemirror_mode": {
    "name": "ipython",
    "version": 3
   },
   "file_extension": ".py",
   "mimetype": "text/x-python",
   "name": "python",
   "nbconvert_exporter": "python",
   "pygments_lexer": "ipython3",
   "version": "3.10.0"
  }
 },
 "nbformat": 4,
 "nbformat_minor": 2
}
